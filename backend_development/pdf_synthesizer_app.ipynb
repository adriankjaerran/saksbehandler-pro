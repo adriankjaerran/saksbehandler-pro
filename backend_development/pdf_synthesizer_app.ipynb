{
 "cells": [
  {
   "cell_type": "code",
   "execution_count": 13,
   "metadata": {},
   "outputs": [
    {
     "name": "stderr",
     "output_type": "stream",
     "text": [
      "ERROR:src.utils.pdf_utils:Error reading PDF data/case/sykepenger_fullt_kapittel.pdf: no such file: 'data/case/sykepenger_fullt_kapittel.pdf'\n"
     ]
    },
    {
     "name": "stdout",
     "output_type": "stream",
     "text": [
      "The autoreload extension is already loaded. To reload it, use:\n",
      "  %reload_ext autoreload\n",
      "\n"
     ]
    }
   ],
   "source": [
    "%load_ext autoreload\n",
    "%autoreload 2\n",
    "\n",
    "from src.llm.openai_utils import call_gpt\n",
    "import os \n",
    "from src.utils.pdf_utils import read_pdf_text\n",
    "    \n",
    "\n",
    "pdf_path = \"data/case/arbeidsgivers_utalelse.pdf\"\n",
    "pdf_path = \"data/case/sykepenger_fullt_kapittel.pdf\"\n",
    "\n",
    "text = read_pdf_text(pdf_path)\n",
    "print(text)\n",
    "\n"
   ]
  },
  {
   "cell_type": "code",
   "execution_count": 10,
   "metadata": {},
   "outputs": [
    {
     "name": "stderr",
     "output_type": "stream",
     "text": [
      "INFO:httpx:HTTP Request: POST https://api.openai.com/v1/chat/completions \"HTTP/1.1 200 OK\"\n"
     ]
    },
    {
     "name": "stdout",
     "output_type": "stream",
     "text": [
      "Hello! How can I assist you today?\n"
     ]
    }
   ],
   "source": [
    "response = call_gpt(\"\",\"Hi\", model=\"gpt-4o-mini\")\n",
    "\n",
    "print(response)\n"
   ]
  },
  {
   "cell_type": "code",
   "execution_count": 16,
   "metadata": {},
   "outputs": [
    {
     "name": "stdout",
     "output_type": "stream",
     "text": [
      "126324\n"
     ]
    },
    {
     "name": "stderr",
     "output_type": "stream",
     "text": [
      "INFO:httpx:HTTP Request: POST https://api.openai.com/v1/chat/completions \"HTTP/1.1 200 OK\"\n"
     ]
    },
    {
     "name": "stdout",
     "output_type": "stream",
     "text": [
      "### Summary Document for Sykepenger Application Case\n",
      "\n",
      "**Applicant Information:**\n",
      "- Name: [Person 1's full name]\n",
      "- Date of Birth: [Fiktiv fødselsdato]\n",
      "- Personnummer: [Fiktivt personnummer]\n",
      "- Position: [Person 1's position]\n",
      "- Employer: [Person 1's employer]\n",
      "- Start Date of Sickness: [Startdato for sykemelding]\n",
      "\n",
      "**Reason for Sickness:**\n",
      "The applicant has reported severe vision problems, which include:\n",
      "- Tåkete syn: Difficulty focusing, especially when reading or using a computer.\n",
      "- Lysfølsomhet: Increased sensitivity to bright light causing pain in the eyes.\n",
      "- Dobbeltsyn: Experiencing double vision, complicating precision work and safe navigation.\n",
      "- Hyppig hodepine: Frequent headaches likely associated with the vision issues.\n",
      "\n",
      "These symptoms have progressively worsened, rendering the applicant unable to perform their job duties effectively. A consultation with [Navn på optiker/lege] on [Dato for legetime] confirmed the need for sick leave to undergo necessary examinations and treatment. A copy of the medical certificate is attached to the application [1].\n",
      "\n",
      "**Sykepenger Regulations:**\n",
      "1. **Eligibility for Sykepenger:**\n",
      "   - The applicant must have been in work for at least four weeks immediately before becoming unable to work due to illness [3].\n",
      "   - Sykepenger are provided to compensate for loss of income due to work incapacity caused by illness or injury [3].\n",
      "\n",
      "2. **Documentation Requirements:**\n",
      "   - A medical certificate is required to document the incapacity for work. This is not necessary during the employer's payment period if the employee can use self-certification [3].\n",
      "   - The medical certificate must confirm that medical reasons prevent the applicant from engaging in work-related activities [3].\n",
      "\n",
      "3. **Sykepengegrunnlag (Sick Pay Basis):**\n",
      "   - The sick pay basis is determined based on the average income reported to the A-ordningen over a specified period [3].\n",
      "   - For employees, sick pay is calculated at 100% of the sick pay basis [3].\n",
      "\n",
      "4. **Sykepengedager (Sick Pay Days):**\n",
      "   - The right to sick pay ceases after the applicant has received sick pay for a total of 248 days within the last three years [3].\n",
      "   - If the applicant has been fully capable of work for 26 weeks after the last sick pay period, they regain the right to sick pay for 248, 250, or 260 days [3].\n",
      "\n",
      "5. **Employer's Responsibilities:**\n",
      "   - The employer must be notified of the sick leave as soon as possible. If the sick leave extends, the applicant should inform the employer promptly [4].\n",
      "   - The employer is responsible for conducting follow-up conversations to assess the applicant's situation and explore possible adjustments to facilitate a return to work [4].\n",
      "\n",
      "**Next Steps:**\n",
      "- The applicant should ensure that all required documentation, including the medical certificate, is submitted to NAV promptly.\n",
      "- The applicant is encouraged to maintain communication with both NAV and their employer regarding their health status and any necessary workplace adjustments.\n",
      "\n",
      "**Contact Information:**\n",
      "- For further inquiries regarding rights and obligations during sick leave, the applicant can contact [Navn på HR-ansvarlig] at [Telefonnummer til HR-ansvarlig] or via email at [E-postadresse til HR-ansvarlig] [4].\n",
      "\n",
      "This summary consolidates all relevant information regarding the applicant's case for sykepenger, ensuring that all necessary steps and regulations are clearly outlined for effective processing.\n"
     ]
    }
   ],
   "source": [
    "# Now gather all the pdfs in the data/case folder and store them in a dictionary of {pdf_name: text}\n",
    "\n",
    "pdf_files = [f for f in os.listdir(\"data\") if f.endswith(\".pdf\")]\n",
    "pdf_dict = {f: read_pdf_text(os.path.join(\"data\", f)) for f in pdf_files}\n",
    "\n",
    "\n",
    "\n",
    "# Create a function that turns these into a singles stirng on the format \"### pdf_name [i]\\npdf_text \\n\\n ### pdf_name [i+1]\\npdf_text \\n\\n etc\"\n",
    "\n",
    "def pdf_to_string(pdf_dict):\n",
    "    return \"\\n\\n\".join([f\"### {pdf_name} [{i}]\\n{pdf_text}\" for i, (pdf_name, pdf_text) in enumerate(pdf_dict.items())])\n",
    "\n",
    "pdf_string = pdf_to_string(pdf_dict)\n",
    "#print(pdf_string)\n",
    "print(len(pdf_string))\n",
    "\n",
    "# Create a system propmt that instructs the model to be an information combiner that purely helps gather all relevant information from the pdfs to create a summary document with everything relevant for the case:\n",
    "\n",
    "system_prompt = \"\"\"\n",
    "You are an information combiner that purely helps gather all relevant information from the pdfs to create a summary document with everything relevant for the case.\n",
    "You perform citations with a square bracket after all the text you are citing to indicate which pdf it came from. \n",
    "\"\"\"\n",
    "\n",
    "user_prompt = \"\"\"\n",
    "Gather all the information that is relevant to treat the case of the person applying for sykepenger. \n",
    "\"\"\"\n",
    "\n",
    "user_prompt = f\"\"\"PDF Documents:/n {pdf_string} \\n\\n -----\\n\\nWhat to extract from the documents: {user_prompt}\"\"\"\n",
    "\n",
    "response = call_gpt(system_prompt, user_prompt, model=\"gpt-4o-mini\")\n",
    "\n",
    "print(response)"
   ]
  },
  {
   "cell_type": "code",
   "execution_count": 18,
   "metadata": {},
   "outputs": [
    {
     "name": "stdout",
     "output_type": "stream",
     "text": [
      "### Summary Document for Sykepenger Application Case\n",
      "\n",
      "**Applicant Information:**\n",
      "- Name: [Person 1's full name]\n",
      "- Date of Birth: [Fiktiv fødselsdato]\n",
      "- Personnummer: [Fiktivt personnummer]\n",
      "- Position: [Person 1's position]\n",
      "- Employer: [Person 1's employer]\n",
      "- Start Date of Sickness: [Startdato for sykemelding]\n",
      "\n",
      "**Reason for Sickness:**\n",
      "The applicant has reported severe vision problems, which include:\n",
      "- Tåkete syn: Difficulty focusing, especially when reading or using a computer.\n",
      "- Lysfølsomhet: Increased sensitivity to bright light causing pain in the eyes.\n",
      "- Dobbeltsyn: Experiencing double vision, complicating precision work and safe navigation.\n",
      "- Hyppig hodepine: Frequent headaches likely associated with the vision issues.\n",
      "\n",
      "These symptoms have progressively worsened, rendering the applicant unable to perform their job duties effectively. A consultation with [Navn på optiker/lege] on [Dato for legetime] confirmed the need for sick leave to undergo necessary examinations and treatment. A copy of the medical certificate is attached to the application [[1]](ønske_om_sykepenger.pdf).\n",
      "\n",
      "**Sykepenger Regulations:**\n",
      "1. **Eligibility for Sykepenger:**\n",
      "   - The applicant must have been in work for at least four weeks immediately before becoming unable to work due to illness [[3]](sykepenger_fullt_kapittel.pdf).\n",
      "   - Sykepenger are provided to compensate for loss of income due to work incapacity caused by illness or injury [[3]](sykepenger_fullt_kapittel.pdf).\n",
      "\n",
      "2. **Documentation Requirements:**\n",
      "   - A medical certificate is required to document the incapacity for work. This is not necessary during the employer's payment period if the employee can use self-certification [[3]](sykepenger_fullt_kapittel.pdf).\n",
      "   - The medical certificate must confirm that medical reasons prevent the applicant from engaging in work-related activities [[3]](sykepenger_fullt_kapittel.pdf).\n",
      "\n",
      "3. **Sykepengegrunnlag (Sick Pay Basis):**\n",
      "   - The sick pay basis is determined based on the average income reported to the A-ordningen over a specified period [[3]](sykepenger_fullt_kapittel.pdf).\n",
      "   - For employees, sick pay is calculated at 100% of the sick pay basis [[3]](sykepenger_fullt_kapittel.pdf).\n",
      "\n",
      "4. **Sykepengedager (Sick Pay Days):**\n",
      "   - The right to sick pay ceases after the applicant has received sick pay for a total of 248 days within the last three years [[3]](sykepenger_fullt_kapittel.pdf).\n",
      "   - If the applicant has been fully capable of work for 26 weeks after the last sick pay period, they regain the right to sick pay for 248, 250, or 260 days [[3]](sykepenger_fullt_kapittel.pdf).\n",
      "\n",
      "5. **Employer's Responsibilities:**\n",
      "   - The employer must be notified of the sick leave as soon as possible. If the sick leave extends, the applicant should inform the employer promptly [[4]](arbeidsgivers_utalelse.pdf).\n",
      "   - The employer is responsible for conducting follow-up conversations to assess the applicant's situation and explore possible adjustments to facilitate a return to work [[4]](arbeidsgivers_utalelse.pdf).\n",
      "\n",
      "**Next Steps:**\n",
      "- The applicant should ensure that all required documentation, including the medical certificate, is submitted to NAV promptly.\n",
      "- The applicant is encouraged to maintain communication with both NAV and their employer regarding their health status and any necessary workplace adjustments.\n",
      "\n",
      "**Contact Information:**\n",
      "- For further inquiries regarding rights and obligations during sick leave, the applicant can contact [Navn på HR-ansvarlig] at [Telefonnummer til HR-ansvarlig] or via email at [E-postadresse til HR-ansvarlig] [[4]](arbeidsgivers_utalelse.pdf).\n",
      "\n",
      "This summary consolidates all relevant information regarding the applicant's case for sykepenger, ensuring that all necessary steps and regulations are clearly outlined for effective processing.\n"
     ]
    }
   ],
   "source": [
    "\n",
    "# Make each sources in the answer e.g. [1] or [2] etc. a markdown hyperlink to the source e.g. [[1]](https://www.google.com)\n",
    "def make_hyperlinks(response):\n",
    "    for i, (pdf_name, pdf_text) in enumerate(pdf_dict.items()):\n",
    "        response = response.replace(f\"[{i}]\", f\"[[{i}]]({pdf_name})\")\n",
    "    return response\n",
    "\n",
    "print(make_hyperlinks(response))"
   ]
  },
  {
   "cell_type": "code",
   "execution_count": null,
   "metadata": {},
   "outputs": [],
   "source": [
    "\n",
    "# Make each sources in the answer e.g. [1] or [2] etc. a markdown hyperlink to the source e.g. [[1]](https://www.google.com)\n",
    "def make_hyperlinks(response):\n",
    "    for i, (pdf_name, pdf_text) in enumerate(pdf_dict.items()):\n",
    "        response = response.replace(f\"[{i}]\", f\"[[{i}]]({pdf_name})\")\n",
    "    return response\n",
    "\n",
    "print(make_hyperlinks(response))\n",
    "\n"
   ]
  },
  {
   "cell_type": "code",
   "execution_count": 19,
   "metadata": {},
   "outputs": [],
   "source": [
    "# SAve response as a hardcoded .txt in the response folder \n",
    "\n",
    "with open(\"response/response.txt\", \"w\") as f:\n",
    "    f.write(response)\n",
    "\n"
   ]
  }
 ],
 "metadata": {
  "kernelspec": {
   "display_name": ".venv",
   "language": "python",
   "name": "python3"
  },
  "language_info": {
   "codemirror_mode": {
    "name": "ipython",
    "version": 3
   },
   "file_extension": ".py",
   "mimetype": "text/x-python",
   "name": "python",
   "nbconvert_exporter": "python",
   "pygments_lexer": "ipython3",
   "version": "3.10.14"
  }
 },
 "nbformat": 4,
 "nbformat_minor": 2
}
